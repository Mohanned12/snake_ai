{
  "nbformat": 4,
  "nbformat_minor": 0,
  "metadata": {
    "colab": {
      "provenance": [],
      "authorship_tag": "ABX9TyM7IHdib+0Guzv1YCZUvsDT"
    },
    "kernelspec": {
      "name": "python3",
      "display_name": "Python 3"
    },
    "language_info": {
      "name": "python"
    }
  },
  "cells": [
    {
      "cell_type": "markdown",
      "source": [
        "# ***This function plot(scores, mean_scores) is used to visualize the training progress of the AI agent playing the Snake game. Here's a detailed explanation:***\n",
        "\n",
        "\n",
        "***1. Imports & Interactive Mode***\n",
        "\n",
        "matplotlib.pyplot: Used for plotting graphs.\n",
        "\n",
        "IPython.display: Used to update the plot dynamically.\n",
        "\n",
        "plt.ion(): Enables interactive mode, allowing continuous updates to the plot without blocking execution.\n"
      ],
      "metadata": {
        "id": "t6vHoBo_NFqw"
      }
    },
    {
      "cell_type": "code",
      "execution_count": 8,
      "metadata": {
        "colab": {
          "base_uri": "https://localhost:8080/",
          "height": 35
        },
        "id": "J1G_qlMbMjAT",
        "outputId": "347cbdfe-5b8d-41da-818c-3956b21a0b88"
      },
      "outputs": [
        {
          "output_type": "execute_result",
          "data": {
            "text/plain": [
              "' import matplotlib.pyplot as plt\\n    from IPython import display\\n\\n    plt.ion()  # Turn on interactive mode for real-time plotting\\n'"
            ],
            "application/vnd.google.colaboratory.intrinsic+json": {
              "type": "string"
            }
          },
          "metadata": {},
          "execution_count": 8
        }
      ],
      "source": [
        "''' import matplotlib.pyplot as plt\n",
        "    from IPython import display\n",
        "\n",
        "    plt.ion()  # Turn on interactive mode for real-time plotting\n",
        "'''"
      ]
    },
    {
      "cell_type": "markdown",
      "source": [
        "***2. Function plot(scores, mean_scores)***\n",
        "\n",
        "clear_output(wait=True): Clears previous output to prevent multiple plots from overlapping.\n",
        "\n",
        "display.display(plt.gcf()): Displays the updated figure.\n",
        "\n",
        "plt.clf(): Clears the current figure before drawing new data.\n",
        "\n"
      ],
      "metadata": {
        "id": "Ukq1iO9FNj76"
      }
    },
    {
      "cell_type": "code",
      "source": [
        "'''def plot(scores, mean_scores):\n",
        "    display.clear_output(wait=True)  # Clear previous output to update the plot dynamically\n",
        "    display.display(plt.gcf())  # Display the current figure\n",
        "    plt.clf()  # Clear the figure for the next plot\n",
        "'''"
      ],
      "metadata": {
        "colab": {
          "base_uri": "https://localhost:8080/",
          "height": 53
        },
        "id": "lPkDmM3ZNvAA",
        "outputId": "fb93c1fd-a2ba-449c-8175-6b5440e3bc53"
      },
      "execution_count": 10,
      "outputs": [
        {
          "output_type": "execute_result",
          "data": {
            "text/plain": [
              "'def plot(scores, mean_scores):\\n    display.clear_output(wait=True)  # Clear previous output to update the plot dynamically\\n    display.display(plt.gcf())  # Display the current figure\\n    plt.clf()  # Clear the figure for the next plot\\n'"
            ],
            "application/vnd.google.colaboratory.intrinsic+json": {
              "type": "string"
            }
          },
          "metadata": {},
          "execution_count": 10
        }
      ]
    },
    {
      "cell_type": "markdown",
      "source": [
        "***3. Setting Up the Plot***\n",
        "\n",
        "Title: \"Training...\" (Indicates the model is learning).\n",
        "\n",
        "X-axis: \"Number of Games\" (Tracks progress over time).\n",
        "\n",
        "Y-axis: \"Score\" (Tracks how well the AI performs).\n",
        "\n",
        "plt.plot(scores): Plots the individual scores per game.\n",
        "\n",
        "plt.plot(mean_scores): Plots the moving average of scores to show the trend.\n"
      ],
      "metadata": {
        "id": "z55QueGfNyP4"
      }
    },
    {
      "cell_type": "code",
      "source": [
        "''' plt.title('Training...')\n",
        "    plt.xlabel('Number of Games')\n",
        "    plt.ylabel('Score')\n",
        "    plt.plot(scores)  # Plot individual scores\n",
        "    plt.plot(mean_scores)  # Plot moving average of scores\n",
        "'''"
      ],
      "metadata": {
        "colab": {
          "base_uri": "https://localhost:8080/",
          "height": 35
        },
        "id": "IaOvJwhyNxp7",
        "outputId": "fc4c0238-c505-4836-8636-7522a01a883a"
      },
      "execution_count": 11,
      "outputs": [
        {
          "output_type": "execute_result",
          "data": {
            "text/plain": [
              "\" plt.title('Training...')\\n    plt.xlabel('Number of Games')\\n    plt.ylabel('Score')\\n    plt.plot(scores)  # Plot individual scores\\n    plt.plot(mean_scores)  # Plot moving average of scores\\n\""
            ],
            "application/vnd.google.colaboratory.intrinsic+json": {
              "type": "string"
            }
          },
          "metadata": {},
          "execution_count": 11
        }
      ]
    },
    {
      "cell_type": "markdown",
      "source": [
        "***4. Plot Enhancements***\n",
        "\n",
        "plt.ylim(ymin=0): Ensures the graph doesn't show negative scores.\n",
        "\n",
        "plt.text(len(scores)-1, scores[-1], str(scores[-1])): Displays the latest score on the graph.\n",
        "\n",
        "plt.text(len(mean_scores)-1, mean_scores[-1], str(mean_scores[-1])): Displays the latest moving average score.\n"
      ],
      "metadata": {
        "id": "D6VS3_AvOGXI"
      }
    },
    {
      "cell_type": "code",
      "source": [
        "''' plt.ylim(ymin=0)  # Ensure the y-axis starts at 0\n",
        "    plt.text(len(scores)-1, scores[-1], str(scores[-1]))  # Display last score\n",
        "    plt.text(len(mean_scores)-1, mean_scores[-1], str(mean_scores[-1]))  # Display last mean score\n",
        "'''"
      ],
      "metadata": {
        "colab": {
          "base_uri": "https://localhost:8080/",
          "height": 53
        },
        "id": "DP2f_JX-OFig",
        "outputId": "c5973a57-3d4c-4295-e846-66612a830b33"
      },
      "execution_count": 12,
      "outputs": [
        {
          "output_type": "execute_result",
          "data": {
            "text/plain": [
              "' plt.ylim(ymin=0)  # Ensure the y-axis starts at 0\\n    plt.text(len(scores)-1, scores[-1], str(scores[-1]))  # Display last score\\n    plt.text(len(mean_scores)-1, mean_scores[-1], str(mean_scores[-1]))  # Display last mean score\\n'"
            ],
            "application/vnd.google.colaboratory.intrinsic+json": {
              "type": "string"
            }
          },
          "metadata": {},
          "execution_count": 12
        }
      ]
    },
    {
      "cell_type": "markdown",
      "source": [
        "***5. Show and Pause***\n",
        "\n",
        "plt.show(block=False): Displays the updated plot without pausing execution.\n",
        "\n",
        "plt.pause(.1): Pauses for 0.1 seconds to allow updates.\n"
      ],
      "metadata": {
        "id": "vYGJcZ-FOd8k"
      }
    },
    {
      "cell_type": "code",
      "source": [
        "''' plt.show(block=False)  # Show the plot without blocking execution\n",
        "    plt.pause(.1)  # Pause for a short time to update the graph\n",
        "'''"
      ],
      "metadata": {
        "colab": {
          "base_uri": "https://localhost:8080/",
          "height": 35
        },
        "id": "9JMWeeE0OlSd",
        "outputId": "1c0b58f1-3905-4bee-ddab-2d8677f602bd"
      },
      "execution_count": 13,
      "outputs": [
        {
          "output_type": "execute_result",
          "data": {
            "text/plain": [
              "' plt.show(block=False)  # Show the plot without blocking execution\\n    plt.pause(.1)  # Pause for a short time to update the graph\\n'"
            ],
            "application/vnd.google.colaboratory.intrinsic+json": {
              "type": "string"
            }
          },
          "metadata": {},
          "execution_count": 13
        }
      ]
    },
    {
      "cell_type": "code",
      "source": [
        "\n",
        "import matplotlib.pyplot as plt\n",
        "from IPython import display\n",
        "\n",
        "plt.ion()\n",
        "\n",
        "def plot(scores, mean_scores):\n",
        "    display.clear_output(wait=True)\n",
        "    display.display(plt.gcf())\n",
        "    plt.clf()\n",
        "    plt.title('Training...')\n",
        "    plt.xlabel('Number of Games')\n",
        "    plt.ylabel('Score')\n",
        "    plt.plot(scores)\n",
        "    plt.plot(mean_scores)\n",
        "    plt.ylim(ymin=0)\n",
        "    plt.text(len(scores)-1, scores[-1], str(scores[-1]))\n",
        "    plt.text(len(mean_scores)-1, mean_scores[-1], str(mean_scores[-1]))\n",
        "    plt.show(block=False)\n",
        "    plt.pause(.1)\n"
      ],
      "metadata": {
        "id": "NadteYBpPgOS"
      },
      "execution_count": 14,
      "outputs": []
    }
  ]
}