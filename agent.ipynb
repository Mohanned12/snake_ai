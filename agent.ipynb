{
  "nbformat": 4,
  "nbformat_minor": 0,
  "metadata": {
    "colab": {
      "provenance": [],
      "mount_file_id": "1octXnxmlQ_5cEbrpe2SFuXtxSuUOo9GE",
      "authorship_tag": "ABX9TyNLRTOobJI26zWlmBtaTn28"
    },
    "kernelspec": {
      "name": "python3",
      "display_name": "Python 3"
    },
    "language_info": {
      "name": "python"
    }
  },
  "cells": [
    {
      "cell_type": "markdown",
      "source": [
        "#***Classe Agent (Agent d'Apprentissage par Renforcement)***\n",
        "#Cette classe représente l'agent qui apprend à jouer au jeu Snake en utilisant l'apprentissage par renforcement avec Q-Learning\n",
        "\n",
        "***1. Importations***\n",
        "\n",
        "torch : Utilisé pour le réseau de neurones et les calculs matriciels avec PyTorch.\n",
        "\n",
        " random : Permet d'introduire une exploration aléatoire dans le choix des actions.\n",
        "\n",
        "numpy : Utilisé pour manipuler des tableaux et transformer les états en format numérique.\n",
        "\n",
        " deque : Structure de file double pour stocker les expériences de l’agent et permettre un entraînement basé sur l'expérience passée.\n",
        "\n",
        "snake : Fichier contenant la logique du jeu Snake :\n",
        "\n",
        "    SnakeGameAI : Classe principale du jeu.\n",
        "\n",
        "    Direction : Enumération pour représenter les directions.\n",
        "\n",
        "    Point : Représente les coordonnées dans le jeu.\n",
        "\n",
        " Deep_Q-Network(DQN) : Contient le réseau de neurones et la fonction d'entraînement :\n",
        "\n",
        "    Linear_QNet : Réseau de neurones qui apprend à jouer.\n",
        "\n",
        "    QTrainer : Algorithme d’optimisation basé sur le Q-Learning.\n",
        "\n",
        "show : Contient la fonction plot(), utilisée pour afficher l’évolution des scores.\n"
      ],
      "metadata": {
        "id": "I7B80DKykNGV"
      }
    },
    {
      "cell_type": "code",
      "execution_count": null,
      "metadata": {
        "id": "x5nDUMZRVieo"
      },
      "outputs": [],
      "source": [
        "'''\n",
        "import torch\n",
        "import random\n",
        "import numpy as np\n",
        "from collections import deque\n",
        "from snake import SnakeGameAI, Direction, Point\n",
        "from Deep_Q-Network(DQN) import Linear_QNet, QTrainer\n",
        "from show import plot\n",
        "'''"
      ]
    },
    {
      "cell_type": "markdown",
      "source": [
        "***2. Paramètres globaux***\n",
        "\n",
        " MAX_MEMORY : Nombre maximal d’expériences stockées en mémoire.\n",
        "\n",
        "BATCH_SIZE : Nombre d’échantillons utilisés à chaque entraînement.\n",
        "\n",
        "LR : Taux d’apprentissage du réseau de neurones."
      ],
      "metadata": {
        "id": "TzSYFnuZl3RW"
      }
    },
    {
      "cell_type": "code",
      "source": [
        "'''\n",
        "MAX_MEMORY = 100_000\n",
        "BATCH_SIZE = 1000\n",
        "LR = 0.001\n",
        "'''"
      ],
      "metadata": {
        "id": "iKJ9s2tOl22z"
      },
      "execution_count": null,
      "outputs": []
    },
    {
      "cell_type": "markdown",
      "source": [
        "***3. Classe Agent***\n",
        "\n",
        "Cette classe définit l'agent intelligent qui apprend à jouer au jeu Snake.\n",
        "\n"
      ],
      "metadata": {
        "id": "TWWDWtslmSNL"
      }
    },
    {
      "cell_type": "code",
      "source": [
        "'''\n",
        "class Agent:\n",
        "'''"
      ],
      "metadata": {
        "id": "pAK00BFVmbsb"
      },
      "execution_count": null,
      "outputs": []
    },
    {
      "cell_type": "markdown",
      "source": [
        "***3.1. Initialisation***\n",
        "\n",
        " self.n_games : Compteur du nombre de parties jouées.\n",
        "\n",
        "self.epsilon : Contrôle l'exploration (prises de décisions aléatoires).\n",
        "\n",
        " self.gamma : Facteur de réduction du Q-Learning (impact des récompenses futures).\n",
        "\n",
        "self.memory : Liste FIFO stockant les expériences.\n",
        "\n",
        "self.model : Réseau de neurones avec 11 entrées, 256 neurones cachés et 3 sorties.\n",
        "\n",
        " self.trainer : Optimiseur basé sur Q-Learning.\n",
        "\n"
      ],
      "metadata": {
        "id": "XXp33Wh-meht"
      }
    },
    {
      "cell_type": "code",
      "source": [
        "'''\n",
        "def __init__(self):\n",
        "    self.n_games = 0\n",
        "    self.epsilon = 0 # randomness\n",
        "    self.gamma = 0.9 # discount rate\n",
        "    self.memory = deque(maxlen=MAX_MEMORY) # popleft()\n",
        "    self.model = Linear_QNet(11, 256, 3)\n",
        "    self.trainer = QTrainer(self.model, lr=LR, gamma=self.gamma)\n",
        "\n",
        "'''"
      ],
      "metadata": {
        "id": "FD8J7OUjnFey"
      },
      "execution_count": null,
      "outputs": []
    },
    {
      "cell_type": "markdown",
      "source": [
        "***3.2. Extraction de l'état du jeu***\n",
        "\n",
        "Cette fonction retourne un vecteur d’état représentant la situation actuelle du jeu.\n",
        "\n",
        "\n",
        "Détermine les coordonnées de la tête du serpent.\n",
        "\n",
        "Définit quatre points autour de la tête (gauche, droite, haut, bas).\n",
        "\n",
        "\n",
        " Vérifie la direction actuelle du serpent.\n",
        "\n",
        "Danger immédiat (collision devant, à gauche, à droite).\n",
        "\n",
        "  Direction actuelle du serpent.\n",
        "\n",
        " Position relative de la nourriture.\n",
        "\n"
      ],
      "metadata": {
        "id": "45v89AfKnJwu"
      }
    },
    {
      "cell_type": "code",
      "source": [
        "'''\n",
        "def get_state(self, game):\n",
        "  head = game.snake[0]\n",
        "  point_l = Point(head.x - 20, head.y)\n",
        "  point_r = Point(head.x + 20, head.y)\n",
        "  point_u = Point(head.x, head.y - 20)\n",
        "  point_d = Point(head.x, head.y + 20)\n",
        "  dir_l = game.direction == Direction.LEFT\n",
        "  dir_r = game.direction == Direction.RIGHT\n",
        "  dir_u = game.direction == Direction.UP\n",
        "  dir_d = game.direction == Direction.DOWN\n",
        "  state = [\n",
        "      (dir_r and game.is_collision(point_r)) or\n",
        "      (dir_l and game.is_collision(point_l)) or\n",
        "      (dir_u and game.is_collision(point_u)) or\n",
        "      (dir_d and game.is_collision(point_d)),\n",
        "\n",
        "      (dir_u and game.is_collision(point_r)) or\n",
        "      (dir_d and game.is_collision(point_l)) or\n",
        "      (dir_l and game.is_collision(point_u)) or\n",
        "      (dir_r and game.is_collision(point_d)),\n",
        "\n",
        "      (dir_d and game.is_collision(point_r)) or\n",
        "      (dir_u and game.is_collision(point_l)) or\n",
        "      (dir_r and game.is_collision(point_u)) or\n",
        "      (dir_l and game.is_collision(point_d)),\n",
        "\n",
        "      dir_l,\n",
        "      dir_r,\n",
        "      dir_u,\n",
        "      dir_d,\n",
        "\n",
        "      game.food.x < game.head.x,\n",
        "      game.food.x > game.head.x,\n",
        "      game.food.y < game.head.y,\n",
        "      game.food.y > game.head.y\n",
        "  ]\n",
        "\n",
        "'''"
      ],
      "metadata": {
        "id": "mgYz51nWnlWy"
      },
      "execution_count": null,
      "outputs": []
    },
    {
      "cell_type": "markdown",
      "source": [
        "***3.3. Mémorisation des expériences***\n",
        "\n",
        "Stocke une expérience pour un entraînement futur.\n",
        "\n",
        "\n"
      ],
      "metadata": {
        "id": "yPKQGudHn1P8"
      }
    },
    {
      "cell_type": "code",
      "source": [
        "'''\n",
        "def remember(self, state, action, reward, next_state, done):\n",
        "    self.memory.append((state, action, reward, next_state, done))\n",
        "\n",
        "'''"
      ],
      "metadata": {
        "id": "neqK0ydjn6G-"
      },
      "execution_count": null,
      "outputs": []
    },
    {
      "cell_type": "markdown",
      "source": [
        "***3.4. Entraînement à long et court terme***\n",
        "\n",
        "Sélectionne un mini-batch d’expériences.\n",
        "\n",
        "Entraîne le modèle sur cet échantillon.\n",
        "\n",
        "Entraîne immédiatement l’agent sur une seule expérience.\n",
        "\n"
      ],
      "metadata": {
        "id": "t1C8ZYw_oASw"
      }
    },
    {
      "cell_type": "code",
      "source": [
        "'''\n",
        "    def train_long_memory(self):\n",
        "        if len(self.memory) > BATCH_SIZE:\n",
        "            mini_sample = random.sample(self.memory, BATCH_SIZE) # list of tuples\n",
        "        else:\n",
        "            mini_sample = self.memory\n",
        "\n",
        "        states, actions, rewards, next_states, dones = zip(*mini_sample)\n",
        "        self.trainer.train_step(states, actions, rewards, next_states, dones)\n",
        "        #for state, action, reward, nexrt_state, done in mini_sample:\n",
        "        #    self.trainer.train_step(state, action, reward, next_state, done)\n",
        "\n",
        "    def train_short_memory(self, state, action, reward, next_state, done):\n",
        "        self.trainer.train_step(state, action, reward, next_state, done)\n",
        "\n",
        "\n",
        "\n",
        "'''"
      ],
      "metadata": {
        "id": "Cv42LL6aoMwG"
      },
      "execution_count": null,
      "outputs": []
    },
    {
      "cell_type": "markdown",
      "source": [
        "***3.5. Choix de l’action***\n",
        "\n",
        "L’agent décide s’il explore ou exploite\n",
        "\n",
        " Exploration : Si random < epsilon, l’agent choisit une action aléatoire.\n",
        "\n",
        " Exploitation : Sinon, il prédit la meilleure action avec son modèle.\n",
        "\n"
      ],
      "metadata": {
        "id": "ddukft4vowWW"
      }
    },
    {
      "cell_type": "code",
      "source": [
        "'''\n",
        "def get_action(self, state):\n",
        "  self.epsilon = 80 - self.n_games\n",
        "  final_move = [0,0,0]\n",
        "  if random.randint(0, 200) < self.epsilon:\n",
        "      move = random.randint(0, 2)\n",
        "  else:\n",
        "      state0 = torch.tensor(state, dtype=torch.float)\n",
        "      prediction = self.model(state0)\n",
        "      move = torch.argmax(prediction).item()\n",
        "  final_move[move] = 1\n",
        "  return final_move\n",
        "\n",
        "'''"
      ],
      "metadata": {
        "id": "17Uxwn4ho8gM"
      },
      "execution_count": null,
      "outputs": []
    },
    {
      "cell_type": "markdown",
      "source": [
        "***4. Fonction train()***\n",
        "Cette fonction gère l’entraînement complet :\n",
        "\n",
        "Initialise l’agent et le jeu.\n",
        "\n",
        "Récupère l’état, effectue un mouvement, et obtient la récompense.\n",
        "\n",
        "Entraînement court terme et mémorisation.\n",
        "\n",
        "Fin de partie : entraînement à long terme.\n",
        "\n",
        "Sauvegarde du meilleur modèle.\n",
        "\n"
      ],
      "metadata": {
        "id": "FsMp9aMJpJx9"
      }
    },
    {
      "cell_type": "code",
      "source": [
        "'''\n",
        "def train():\n",
        "    plot_scores = []\n",
        "    plot_mean_scores = []\n",
        "    total_score = 0\n",
        "    record = 0\n",
        "    agent = Agent()\n",
        "    game = SnakeGameAI()\n",
        "    while True:\n",
        "        # get old state\n",
        "        state_old = agent.get_state(game)\n",
        "\n",
        "        # get move\n",
        "        final_move = agent.get_action(state_old)\n",
        "\n",
        "        # perform move and get new state\n",
        "        reward, done, score = game.play_step(final_move)\n",
        "        state_new = agent.get_state(game)\n",
        "\n",
        "        # train short memory\n",
        "        agent.train_short_memory(state_old, final_move, reward, state_new, done)\n",
        "\n",
        "        # remember\n",
        "        agent.remember(state_old, final_move, reward, state_new, done)\n",
        "\n",
        "        if done:\n",
        "            # train long memory, plot result\n",
        "            game.reset()\n",
        "            agent.n_games += 1\n",
        "            agent.train_long_memory()\n",
        "\n",
        "            if score > record:\n",
        "                record = score\n",
        "                agent.model.save()\n",
        "\n",
        "            print('Game', agent.n_games, 'Score', score, 'Record:', record)\n",
        "\n",
        "            plot_scores.append(score)\n",
        "            total_score += score\n",
        "            mean_score = total_score / agent.n_games\n",
        "            plot_mean_scores.append(mean_score)\n",
        "            plot(plot_scores, plot_mean_scores)\n",
        "\n",
        "\n",
        "if __name__ == '__main__':\n",
        "    train()\n",
        "'''"
      ],
      "metadata": {
        "colab": {
          "base_uri": "https://localhost:8080/",
          "height": 122
        },
        "id": "QyQD818rpfJs",
        "outputId": "f2bb73ad-9f95-4571-8398-dc77f8cf1734"
      },
      "execution_count": 8,
      "outputs": [
        {
          "output_type": "execute_result",
          "data": {
            "text/plain": [
              "\"\\ndef train():\\n    plot_scores = []\\n    plot_mean_scores = []\\n    total_score = 0\\n    record = 0\\n    agent = Agent()\\n    game = SnakeGameAI()\\n    while True:\\n        # get old state\\n        state_old = agent.get_state(game)\\n\\n        # get move\\n        final_move = agent.get_action(state_old)\\n\\n        # perform move and get new state\\n        reward, done, score = game.play_step(final_move)\\n        state_new = agent.get_state(game)\\n\\n        # train short memory\\n        agent.train_short_memory(state_old, final_move, reward, state_new, done)\\n\\n        # remember\\n        agent.remember(state_old, final_move, reward, state_new, done)\\n\\n        if done:\\n            # train long memory, plot result\\n            game.reset()\\n            agent.n_games += 1\\n            agent.train_long_memory()\\n\\n            if score > record:\\n                record = score\\n                agent.model.save()\\n\\n            print('Game', agent.n_games, 'Score', score, 'Record:', record)\\n\\n            plot_scores.append(score)\\n            total_score += score\\n            mean_score = total_score / agent.n_games\\n            plot_mean_scores.append(mean_score)\\n            plot(plot_scores, plot_mean_scores)\\n\\n\\nif __name__ == '__main__':\\n    train()\\n\""
            ],
            "application/vnd.google.colaboratory.intrinsic+json": {
              "type": "string"
            }
          },
          "metadata": {},
          "execution_count": 8
        }
      ]
    },
    {
      "cell_type": "code",
      "source": [
        "import torch\n",
        "import random\n",
        "import sys\n",
        "import numpy as np\n",
        "from collections import deque\n",
        "\n",
        "sys.path.append('/content/drive/MyDrive/Colab_Notebooks/')\n",
        "\n",
        "from snake import SnakeGameAI, Direction, Point\n",
        "from Deep_Q-Network(DQN) import Linear_QNet, QTrainer\n",
        "from show import plot  # Ensure helper.py is correctly named and located\n",
        "\n",
        "# Constants\n",
        "MAX_MEMORY = 100_000\n",
        "BATCH_SIZE = 1000\n",
        "LR = 0.001\n",
        "\n",
        "class Agent:\n",
        "    def __init__(self):\n",
        "        self.n_games = 0\n",
        "        self.epsilon = 0  # randomness\n",
        "        self.gamma = 0.9  # discount rate\n",
        "        self.memory = deque(maxlen=MAX_MEMORY)  # popleft() when full\n",
        "        self.model = Linear_QNet(11, 256, 3)\n",
        "        self.trainer = QTrainer(self.model, lr=LR, gamma=self.gamma)\n",
        "\n",
        "    def get_state(self, game):\n",
        "        head = game.snake[0]\n",
        "        point_l = Point(head.x - 20, head.y)\n",
        "        point_r = Point(head.x + 20, head.y)\n",
        "        point_u = Point(head.x, head.y - 20)\n",
        "        point_d = Point(head.x, head.y + 20)\n",
        "\n",
        "        dir_l = game.direction == Direction.LEFT\n",
        "        dir_r = game.direction == Direction.RIGHT\n",
        "        dir_u = game.direction == Direction.UP\n",
        "        dir_d = game.direction == Direction.DOWN\n",
        "\n",
        "        state = [\n",
        "            # Danger straight\n",
        "            (dir_r and game.is_collision(point_r)) or\n",
        "            (dir_l and game.is_collision(point_l)) or\n",
        "            (dir_u and game.is_collision(point_u)) or\n",
        "            (dir_d and game.is_collision(point_d)),\n",
        "\n",
        "            # Danger right\n",
        "            (dir_u and game.is_collision(point_r)) or\n",
        "            (dir_d and game.is_collision(point_l)) or\n",
        "            (dir_l and game.is_collision(point_u)) or\n",
        "            (dir_r and game.is_collision(point_d)),\n",
        "\n",
        "            # Danger left\n",
        "            (dir_d and game.is_collision(point_r)) or\n",
        "            (dir_u and game.is_collision(point_l)) or\n",
        "            (dir_r and game.is_collision(point_u)) or\n",
        "            (dir_l and game.is_collision(point_d)),\n",
        "\n",
        "            # Move direction\n",
        "            dir_l,\n",
        "            dir_r,\n",
        "            dir_u,\n",
        "            dir_d,\n",
        "\n",
        "            # Food location\n",
        "            game.food.x < game.head.x,  # food left\n",
        "            game.food.x > game.head.x,  # food right\n",
        "            game.food.y < game.head.y,  # food up\n",
        "            game.food.y > game.head.y  # food down\n",
        "        ]\n",
        "\n",
        "        return np.array(state, dtype=int)\n",
        "\n",
        "    def remember(self, state, action, reward, next_state, done):\n",
        "        self.memory.append((state, action, reward, next_state, done))  # popleft if MAX_MEMORY is reached\n",
        "\n",
        "    def train_long_memory(self):\n",
        "        if len(self.memory) > BATCH_SIZE:\n",
        "            mini_sample = random.sample(self.memory, BATCH_SIZE)  # list of tuples\n",
        "        else:\n",
        "            mini_sample = self.memory\n",
        "\n",
        "        states, actions, rewards, next_states, dones = zip(*mini_sample)\n",
        "        self.trainer.train_step(states, actions, rewards, next_states, dones)\n",
        "\n",
        "    def train_short_memory(self, state, action, reward, next_state, done):\n",
        "        self.trainer.train_step(state, action, reward, next_state, done)\n",
        "\n",
        "    def get_action(self, state):\n",
        "        # Random moves: tradeoff between exploration & exploitation\n",
        "        self.epsilon = 80 - self.n_games\n",
        "        final_move = [0, 0, 0]\n",
        "\n",
        "        if random.randint(0, 200) < self.epsilon:\n",
        "            move = random.randint(0, 2)\n",
        "            final_move[move] = 1\n",
        "        else:\n",
        "            state0 = torch.tensor(state, dtype=torch.float)\n",
        "            prediction = self.model(state0)\n",
        "            move = torch.argmax(prediction).item()\n",
        "            final_move[move] = 1\n",
        "\n",
        "        return final_move\n",
        "\n",
        "\n",
        "def train():\n",
        "    plot_scores = []\n",
        "    plot_mean_scores = []\n",
        "    total_score = 0\n",
        "    record = 0\n",
        "    agent = Agent()\n",
        "    game = SnakeGameAI()\n",
        "\n",
        "    while agent.n_games < 150:  # Stop after 150 games\n",
        "        # Get old state\n",
        "        state_old = agent.get_state(game)\n",
        "\n",
        "        # Get move\n",
        "        final_move = agent.get_action(state_old)\n",
        "\n",
        "        # Perform move and get new state\n",
        "        reward, done, score = game.play_step(final_move)\n",
        "        state_new = agent.get_state(game)\n",
        "\n",
        "        # Train short memory\n",
        "        agent.train_short_memory(state_old, final_move, reward, state_new, done)\n",
        "\n",
        "        # Remember\n",
        "        agent.remember(state_old, final_move, reward, state_new, done)\n",
        "\n",
        "        if done:\n",
        "            # Train long memory, plot result\n",
        "            game.reset()\n",
        "            agent.n_games += 1\n",
        "            agent.train_long_memory()\n",
        "\n",
        "            if score > record:\n",
        "                record = score\n",
        "                agent.model.save()\n",
        "\n",
        "            print(f'Game {agent.n_games}, Score: {score}, Record: {record}')\n",
        "\n",
        "            plot_scores.append(score)\n",
        "            total_score += score\n",
        "            mean_score = total_score / agent.n_games\n",
        "            plot_mean_scores.append(mean_score)\n",
        "            plot(plot_scores, plot_mean_scores)\n",
        "\n",
        "    print(\"Training completed after 150 games.\")\n",
        "\n",
        "if __name__ == '__main__':\n",
        "    train()\n"
      ],
      "metadata": {
        "colab": {
          "base_uri": "https://localhost:8080/",
          "height": 507
        },
        "id": "1wiIeAVAplQ6",
        "outputId": "4102c266-0d8e-42c3-cc5b-7499b45c78ff"
      },
      "execution_count": 22,
      "outputs": [
        {
          "output_type": "display_data",
          "data": {
            "text/plain": [
              "<Figure size 640x480 with 0 Axes>"
            ]
          },
          "metadata": {}
        },
        {
          "output_type": "display_data",
          "data": {
            "text/plain": [
              "<Figure size 640x480 with 1 Axes>"
            ],
            "image/png": "[encoded data removed]"
          },
          "metadata": {}
        },
        {
          "output_type": "stream",
          "name": "stdout",
          "text": [
            "Training completed after 150 games.\n"
          ]
        }
      ]
    }
  ]
}