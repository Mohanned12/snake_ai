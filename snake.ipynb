{
  "nbformat": 4,
  "nbformat_minor": 0,
  "metadata": {
    "colab": {
      "provenance": []
    },
    "kernelspec": {
      "name": "python3",
      "display_name": "Python 3"
    },
    "language_info": {
      "name": "python"
    }
  },
  "cells": [
    {
      "cell_type": "markdown",
      "source": [
        "\n",
        "# ***1. Game Initialization***\n",
        "\n",
        "pygame initializes the game.\n",
        "\n",
        "Enum and namedtuple define movement directions and positions.\n",
        "\n",
        "numpy is likely used for AI logic.\n",
        "\n",
        "arial.ttf is used for text rendering in the game.\n",
        "\n"
      ],
      "metadata": {
        "id": "Qtut0BjaGfVT"
      }
    },
    {
      "cell_type": "code",
      "execution_count": 4,
      "metadata": {
        "id": "DxRbiPTQGdtT"
      },
      "outputs": [],
      "source": [
        "import pygame\n",
        "import random\n",
        "from enum import Enum\n",
        "from collections import namedtuple\n",
        "import numpy as np\n",
        "\n",
        "pygame.init()\n",
        "font = pygame.font.Font('/content/drive/MyDrive/Colab_Notebooks/arial.ttf', 25)  # Game font\n"
      ]
    },
    {
      "cell_type": "markdown",
      "source": [
        "# ***2. Defining Constants***\n",
        "\n",
        "Direction Enum defines movement options.\n",
        "\n",
        "Point is used for easy coordinate representation.\n",
        "\n",
        "Colors are defined for game objects.\n",
        "\n",
        "BLOCK_SIZE determines how far the snake moves in one step.\n",
        "\n"
      ],
      "metadata": {
        "id": "zcEQxcozHU-t"
      }
    },
    {
      "cell_type": "code",
      "source": [
        "class Direction(Enum):\n",
        "    RIGHT = 1\n",
        "    LEFT = 2\n",
        "    UP = 3\n",
        "    DOWN = 4\n",
        "\n",
        "Point = namedtuple('Point', 'x, y')\n",
        "\n",
        "# Colors (RGB)\n",
        "WHITE = (255, 255, 255)\n",
        "RED = (200,0,0)  # Food\n",
        "BLUE1 = (0, 0, 255)  # Snake body\n",
        "BLUE2 = (0, 100, 255)\n",
        "BLACK = (0,0,0)  # Background\n",
        "\n",
        "BLOCK_SIZE = 20  # Each grid block is 20x20 pixels\n",
        "SPEED = 40  # Speed of the game (higher = faster)\n"
      ],
      "metadata": {
        "id": "c4dtl39PHfR3"
      },
      "execution_count": 5,
      "outputs": []
    },
    {
      "cell_type": "markdown",
      "source": [
        "# ***3. SnakeGameAI Class***\n",
        "This is the core class managing the game.\n",
        "\n",
        "**a) Game Initialization**\n",
        "\n",
        "Creates a Pygame window of size 640x480.\n",
        "\n",
        "Sets the title to \"Snake\".\n",
        "\n",
        "Calls reset() to initialize the game state."
      ],
      "metadata": {
        "id": "OtBc36znHiYY"
      }
    },
    {
      "cell_type": "code",
      "source": [
        "class SnakeGameAI:\n",
        "\n",
        "    def __init__(self, w=640, h=480):\n",
        "        self.w = w\n",
        "        self.h = h\n",
        "        self.display = pygame.display.set_mode((self.w, self.h))\n",
        "        pygame.display.set_caption('Snake')\n",
        "        self.clock = pygame.time.Clock()\n",
        "        self.reset()\n"
      ],
      "metadata": {
        "id": "6VvA1tLbHy7B"
      },
      "execution_count": 6,
      "outputs": []
    },
    {
      "cell_type": "markdown",
      "source": [
        "**b) Resetting the Game**\n",
        "\n",
        "Resets the snake's position to the center.\n",
        "\n",
        "Sets initial direction to RIGHT.\n",
        "\n",
        "Creates the snake's body (3 segments initially).\n",
        "\n",
        "Places the first food item.\n",
        "\n",
        "Resets score and frame_iteration, which track game progress.\n"
      ],
      "metadata": {
        "id": "6HwTYbycIAzI"
      }
    },
    {
      "cell_type": "code",
      "source": [
        "    def reset(self):\n",
        "      self.direction = Direction.RIGHT\n",
        "      self.head = Point(self.w/2, self.h/2)\n",
        "      self.snake = [\n",
        "          self.head,\n",
        "          Point(self.head.x - BLOCK_SIZE, self.head.y),\n",
        "          Point(self.head.x - (2 * BLOCK_SIZE), self.head.y)\n",
        "      ]\n",
        "      self.score = 0\n",
        "      self.food = None\n",
        "      self._place_food()\n",
        "      self.frame_iteration = 0\n"
      ],
      "metadata": {
        "id": "k0fob0N_H7U0"
      },
      "execution_count": 7,
      "outputs": []
    },
    {
      "cell_type": "markdown",
      "source": [
        "**c) Placing Food**\n",
        "\n",
        "Generates a random (x, y) position for food.\n",
        "\n",
        "Ensures food does not appear inside the snake.\n",
        "\n"
      ],
      "metadata": {
        "id": "NO_Ji7MHIKkz"
      }
    },
    {
      "cell_type": "code",
      "source": [
        "    def _place_food(self):\n",
        "      x = random.randint(0, (self.w - BLOCK_SIZE) // BLOCK_SIZE) * BLOCK_SIZE\n",
        "      y = random.randint(0, (self.h - BLOCK_SIZE) // BLOCK_SIZE) * BLOCK_SIZE\n",
        "      self.food = Point(x, y)\n",
        "      if self.food in self.snake:\n",
        "          self._place_food()\n"
      ],
      "metadata": {
        "id": "_0p6ni10IWHO"
      },
      "execution_count": 8,
      "outputs": []
    },
    {
      "cell_type": "markdown",
      "source": [
        "**d) Game Loop (Play Step)**\n",
        "\n",
        "Increments frame_iteration (prevents infinite loops).\n",
        "\n",
        "Moves the snake using _move(action).\n",
        "\n",
        "Checks if the game is over (collision or too many iterations).\n",
        "\n",
        "Rewards the snake for eating food (+10), punishes it for dying (-10).\n",
        "\n",
        "Moves the snake forward (removes the tail unless it eats food).\n",
        "\n",
        "Updates the UI and waits for the next frame.\n"
      ],
      "metadata": {
        "id": "cB3hRneOImDv"
      }
    },
    {
      "cell_type": "code",
      "source": [
        "    def play_step(self, action):\n",
        "      self.frame_iteration += 1\n",
        "\n",
        "      # Move the snake\n",
        "      self._move(action)\n",
        "      self.snake.insert(0, self.head)\n",
        "\n",
        "      # Check if game over\n",
        "      reward = 0\n",
        "      game_over = False\n",
        "      if self._is_collision() or self.frame_iteration > 100 * len(self.snake):\n",
        "          game_over = True\n",
        "          reward = -10\n",
        "          return reward, game_over, self.score\n",
        "\n",
        "      # Check if snake eats food\n",
        "      if self.head == self.food:\n",
        "          self.score += 1\n",
        "          reward = 10\n",
        "          self._place_food()\n",
        "      else:\n",
        "          self.snake.pop()\n",
        "\n",
        "      # Update UI and clock\n",
        "      self._update_ui()\n",
        "      self.clock.tick(SPEED)\n",
        "\n",
        "      return reward, game_over, self.score\n"
      ],
      "metadata": {
        "id": "C9Zpj4nZIbp5"
      },
      "execution_count": 9,
      "outputs": []
    },
    {
      "cell_type": "markdown",
      "source": [
        "**e) Collision Detection**\n",
        "\n",
        "Detects if the snake hits the wall.\n",
        "\n",
        "Detects if the snake collides with itself.\n"
      ],
      "metadata": {
        "id": "KB8WxdihI55s"
      }
    },
    {
      "cell_type": "code",
      "source": [
        "    def _is_collision(self, pt=None):\n",
        "      if pt is None:\n",
        "          pt = self.head\n",
        "      if pt.x > self.w - BLOCK_SIZE or pt.x < 0 or pt.y > self.h - BLOCK_SIZE or pt.y < 0:\n",
        "          return True\n",
        "      if pt in self.snake[1:]:\n",
        "          return True\n",
        "      return False\n"
      ],
      "metadata": {
        "id": "8oqb0Gf7JIkv"
      },
      "execution_count": 10,
      "outputs": []
    },
    {
      "cell_type": "markdown",
      "source": [
        "**f) Moving the Snake**\n",
        "\n",
        "Movement Logic\n",
        "\n",
        "The AI inputs (action) are 3 values:\n",
        "\n",
        "      [1, 0, 0] → Continue straight.\n",
        "\n",
        "      [0, 1, 0] → Turn right.\n",
        "\n",
        "      [0, 0, 1] → Turn left.\n",
        "\n",
        "Determines the new direction based on the current one.\n",
        "\n",
        "Moves the snake by updating its head position.\n"
      ],
      "metadata": {
        "id": "0Scm_jidJKxA"
      }
    },
    {
      "cell_type": "code",
      "source": [
        "    def _move(self, action):\n",
        "      clock_wise = [Direction.RIGHT, Direction.DOWN, Direction.LEFT, Direction.UP]\n",
        "      idx = clock_wise.index(self.direction)\n",
        "\n",
        "      if np.array_equal(action, [1, 0, 0]):  # No change\n",
        "          new_dir = clock_wise[idx]\n",
        "      elif np.array_equal(action, [0, 1, 0]):  # Right turn\n",
        "          new_dir = clock_wise[(idx + 1) % 4]\n",
        "      else:  # Left turn\n",
        "          new_dir = clock_wise[(idx - 1) % 4]\n",
        "\n",
        "      self.direction = new_dir\n",
        "\n",
        "      x = self.head.x\n",
        "      y = self.head.y\n",
        "      if self.direction == Direction.RIGHT:\n",
        "          x += BLOCK_SIZE\n",
        "      elif self.direction == Direction.LEFT:\n",
        "          x -= BLOCK_SIZE\n",
        "      elif self.direction == Direction.DOWN:\n",
        "          y += BLOCK_SIZE\n",
        "      elif self.direction == Direction.UP:\n",
        "          y -= BLOCK_SIZE\n",
        "\n",
        "      self.head = Point(x, y)\n"
      ],
      "metadata": {
        "id": "v6lhl4EfJYZR"
      },
      "execution_count": 11,
      "outputs": []
    },
    {
      "cell_type": "markdown",
      "source": [
        "**g) Updating UI**\n",
        "\n",
        "\n",
        "Clears the screen.\n",
        "\n",
        "Draws the snake in blue.\n",
        "\n",
        "Draws the food in red.\n",
        "\n",
        "Displays the score.\n",
        "\n"
      ],
      "metadata": {
        "id": "rZVPC_bRJdkd"
      }
    },
    {
      "cell_type": "code",
      "source": [
        "    def _update_ui(self):\n",
        "      self.display.fill(BLACK)\n",
        "\n",
        "      for pt in self.snake:\n",
        "          pygame.draw.rect(self.display, BLUE1, pygame.Rect(pt.x, pt.y, BLOCK_SIZE, BLOCK_SIZE))\n",
        "          pygame.draw.rect(self.display, BLUE2, pygame.Rect(pt.x+4, pt.y+4, 12, 12))\n",
        "\n",
        "      pygame.draw.rect(self.display, RED, pygame.Rect(self.food.x, self.food.y, BLOCK_SIZE, BLOCK_SIZE))\n",
        "\n",
        "      text = font.render(\"Score: \" + str(self.score), True, WHITE)\n",
        "      self.display.blit(text, [10, 10])\n",
        "      pygame.display.flip()\n"
      ],
      "metadata": {
        "id": "vf3mxJXGJoQ4"
      },
      "execution_count": 12,
      "outputs": []
    }
  ]
}
